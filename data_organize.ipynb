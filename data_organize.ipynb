{
  "cells": [
    {
      "cell_type": "markdown",
      "metadata": {
        "colab_type": "text",
        "id": "view-in-github"
      },
      "source": [
        "<a href=\"https://colab.research.google.com/github/murakamixi/suumo_cnn_tensorflow/blob/create_dataset/data_organize.ipynb\" target=\"_parent\"><img src=\"https://colab.research.google.com/assets/colab-badge.svg\" alt=\"Open In Colab\"/></a>"
      ]
    },
    {
      "cell_type": "code",
      "execution_count": 16,
      "metadata": {
        "id": "0iVMqENdUAbn"
      },
      "outputs": [],
      "source": [
        "import pandas as pd\n",
        "import shutil"
      ]
    },
    {
      "cell_type": "code",
      "execution_count": 17,
      "metadata": {
        "id": "_wz426VKUAbr"
      },
      "outputs": [],
      "source": [
        "imgs_df = pd.read_csv('./csv/suumo/imgs_Yamagata_0.csv', index_col=0)\n",
        "# .drop(columns='Unnamed: 0')"
      ]
    },
    {
      "cell_type": "code",
      "execution_count": 18,
      "metadata": {
        "id": "XkYfQFR4UAbr"
      },
      "outputs": [],
      "source": [
        "# 不要なカラムを削除\n",
        "drop_house_columns = ['house_id', 'img_id']\n",
        "imgs_df = imgs_df.drop(columns=drop_house_columns)"
      ]
    },
    {
      "cell_type": "code",
      "execution_count": 19,
      "metadata": {
        "id": "uLd4ci-RUAbs"
      },
      "outputs": [],
      "source": [
        "drop_img_tags = ['現地外観写真', 'リビング以外の居室', '駐車場', '前面道路含む現地写真',\n",
        "        '区画図', 'その他', 'リビング', '収納', 'その他設備', '庭',\n",
        "        '郵便局', '公園', 'その他内観', 'ショッピングセンター', 'スーパー', '小学校', '中学校', 'コンビニ',\n",
        "        'ドラッグストア', 'バルコニー', '高校・高専', 'その他現地', '発電・温水設備', '冷暖房・空調設備',\n",
        "        '住戸からの眺望写真', '防犯設備']\n",
        "\n",
        "for drop_img_tag in drop_img_tags:\n",
        "        index_name = imgs_df[imgs_df['img_tag'] == drop_img_tag].index\n",
        "        imgs_df.drop(index_name, inplace=True)"
      ]
    },
    {
      "cell_type": "code",
      "execution_count": 20,
      "metadata": {
        "id": "uAP3_yNcUAbs"
      },
      "outputs": [],
      "source": [
        "img_tag_names = {'浴室':'bathroom',\n",
        "                '玄関':'genkan',\n",
        "                'キッチン':'kitchen',\n",
        "                '間取り図':'mitorizu',\n",
        "                '洗面台・洗面所':'senmenjo',\n",
        "                'トイレ':'wc',\n",
        "                }"
      ]
    },
    {
      "cell_type": "markdown",
      "metadata": {},
      "source": [
        "# 自作の時"
      ]
    },
    {
      "cell_type": "code",
      "execution_count": 21,
      "metadata": {
        "id": "ZBq8mE7DUAbt"
      },
      "outputs": [],
      "source": [
        "for img_name in imgs_df['img_name']:\n",
        "  #画像のパス\n",
        "  img_path = './imgs/suumo/{}.jpg'.format(img_name)\n",
        "  #どこの画像かのタグを取得\n",
        "  img_index = imgs_df[imgs_df['img_name']==img_name]['img_tag'].index\n",
        "  img_tag = imgs_df.loc[img_index[0], 'img_tag']\n",
        "\n",
        "  #画像のタグによってフォルダ分けをする\n",
        "  for img_tag_name, folder_name in img_tag_names.items():\n",
        "    # タグとフォルダ名が一致していればそのフォルダに写真を移動\n",
        "    if img_tag == img_tag_name:\n",
        "      try:\n",
        "        shutil.move(img_path, './imgs/{}/'.format(folder_name))\n",
        "      except Exception as e:\n",
        "        move_error = e\n",
        "        break"
      ]
    },
    {
      "cell_type": "markdown",
      "metadata": {},
      "source": [
        "# ファインチューニングの時"
      ]
    },
    {
      "cell_type": "code",
      "execution_count": 22,
      "metadata": {
        "id": "JyXOKNqMUAbu"
      },
      "outputs": [],
      "source": [
        "img_count = 0\n",
        "\n",
        "for img_name in imgs_df['img_name']:\n",
        "  #画像のパス\n",
        "  img_path = './imgs/suumo/{}.jpg'.format(img_name)\n",
        "  #どこの画像かのタグを取得\n",
        "  img_index = imgs_df[imgs_df['img_name']==img_name]['img_tag'].index\n",
        "  img_tag = imgs_df.loc[img_index[0], 'img_tag']\n",
        "\n",
        "  #画像のタグによってフォルダ分けをする\n",
        "  for img_tag_name, folder_name in img_tag_names.items():\n",
        "    # タグとフォルダ名が一致していればそのフォルダに写真を移動\n",
        "    if img_tag == img_tag_name:\n",
        "      if img_tag == img_tag_name:\n",
        "        if img_count % 5 == 0 and img_count != 0:\n",
        "          try:\n",
        "            shutil.move(img_path, './data/validation/{}/'.format(folder_name))\n",
        "            img_count += 1\n",
        "          except Exception as e:\n",
        "            move_error = e\n",
        "        else:\n",
        "          try:\n",
        "            shutil.move(img_path, './data/train/{}/'.format(folder_name))\n",
        "            img_count += 1\n",
        "          except Exception as e:\n",
        "            move_error = e"
      ]
    },
    {
      "cell_type": "code",
      "execution_count": null,
      "metadata": {},
      "outputs": [],
      "source": []
    }
  ],
  "metadata": {
    "colab": {
      "include_colab_link": true,
      "name": "data_organize.ipynb",
      "provenance": []
    },
    "interpreter": {
      "hash": "b8a34c261aa465063bbe9b368df34ea1fa18e3deca546493346e91a2b2931e7d"
    },
    "kernelspec": {
      "display_name": "Python 3.9.12 ('suumo_tensor_py39')",
      "language": "python",
      "name": "python3"
    },
    "language_info": {
      "codemirror_mode": {
        "name": "ipython",
        "version": 3
      },
      "file_extension": ".py",
      "mimetype": "text/x-python",
      "name": "python",
      "nbconvert_exporter": "python",
      "pygments_lexer": "ipython3",
      "version": "3.9.12"
    },
    "orig_nbformat": 4
  },
  "nbformat": 4,
  "nbformat_minor": 0
}
