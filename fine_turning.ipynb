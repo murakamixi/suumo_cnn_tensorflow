{
  "cells": [
    {
      "cell_type": "markdown",
      "metadata": {
        "colab_type": "text",
        "id": "view-in-github"
      },
      "source": [
        "<a href=\"https://colab.research.google.com/github/murakamixi/suumo_cnn_tensorflow/blob/train_cmm/fine_turning.ipynb\" target=\"_parent\"><img src=\"https://colab.research.google.com/assets/colab-badge.svg\" alt=\"Open In Colab\"/></a>"
      ]
    },
    {
      "cell_type": "code",
      "execution_count": 6,
      "metadata": {
        "id": "RWnko54qHCkL"
      },
      "outputs": [],
      "source": [
        "from keras.models import Sequential\n",
        "from keras.layers.core import Dense, Dropout, Flatten\n",
        "from keras.preprocessing.image import ImageDataGenerator\n",
        "import matplotlib.pyplot as plt"
      ]
    },
    {
      "cell_type": "code",
      "execution_count": 7,
      "metadata": {
        "id": "H_aIdwVdHCkP"
      },
      "outputs": [],
      "source": [
        "classes = ['bathroom', 'genkan', 'kitchen', 'mitorizu', 'senmenjo', 'wc',]\n",
        "nb_classes = len(classes)\n",
        "\n",
        "img_width, img_height = 64, 64\n",
        "\n",
        "#traning and validation data dir\n",
        "train_data_dir = './data/train'\n",
        "validation_data_dir = './data/validation'\n",
        "\n",
        "nb_train_samples = 81\n",
        "nb_validation_samples = 81\n",
        "\n",
        "batch_size = 16\n",
        "nb_epoch = 10"
      ]
    },
    {
      "cell_type": "code",
      "execution_count": 8,
      "metadata": {
        "id": "UiEmkQcAHCkP",
        "outputId": "d091c04f-7893-47ea-8bd8-59fc83f89af2"
      },
      "outputs": [
        {
          "name": "stdout",
          "output_type": "stream",
          "text": [
            "Found 39 images belonging to 6 classes.\n",
            "Found 39 images belonging to 6 classes.\n"
          ]
        }
      ],
      "source": [
        "# トレーンング用、バリデーション用データを生成するジェネレータ作成\n",
        "train_datagen = ImageDataGenerator(\n",
        "  rescale=1.0 / 255,\n",
        "  zoom_range=0.2,\n",
        "  horizontal_flip=True)\n",
        "\n",
        "validation_datagen = ImageDataGenerator(rescale=1.0 / 255)\n",
        "\n",
        "train_generator = train_datagen.flow_from_directory(\n",
        "  train_data_dir,\n",
        "  target_size=(img_width, img_height),\n",
        "  color_mode='rgb',\n",
        "  classes=classes,\n",
        "  class_mode='categorical',\n",
        "  batch_size=batch_size,\n",
        "  shuffle=True)\n",
        "\n",
        "validation_generator = validation_datagen.flow_from_directory(\n",
        "  validation_data_dir,\n",
        "  target_size=(img_width, img_height),\n",
        "  color_mode='rgb',\n",
        "  classes=classes,\n",
        "  class_mode='categorical',\n",
        "  batch_size=batch_size,\n",
        "  shuffle=True)"
      ]
    },
    {
      "cell_type": "code",
      "execution_count": 9,
      "metadata": {
        "id": "azMntDWAHCkR"
      },
      "outputs": [],
      "source": [
        "from keras.models import Model\n",
        "from keras import optimizers\n",
        "from keras.layers import Input\n",
        "from tensorflow.keras.applications.vgg16 import VGG16\n",
        "import os\n",
        "\n",
        "\n",
        "# VGG16のロード。FC層は不要なので include_top=False\n",
        "input_tensor = Input(shape=(img_width, img_height, 3))\n",
        "vgg16 = VGG16(include_top=False, weights='imagenet', input_tensor=input_tensor)\n",
        "\n",
        "# FC層の作成\n",
        "top_model = Sequential()\n",
        "top_model.add(Flatten(input_shape=vgg16.output_shape[1:]))\n",
        "top_model.add(Dense(256, activation='relu'))\n",
        "top_model.add(Dropout(0.5))\n",
        "top_model.add(Dense(nb_classes, activation='softmax'))\n",
        "\n",
        "# VGG16とFC層を結合してモデルを作成\n",
        "vgg_model = Model(inputs=vgg16.input, outputs=top_model(vgg16.output))\n",
        "\n",
        "# 最後のconv層の直前までの層をfreeze\n",
        "for layer in vgg_model.layers[:15]:\n",
        "    layer.trainable = False\n",
        "\n",
        "# 多クラス分類を指定\n",
        "vgg_model.compile(loss='categorical_crossentropy',\n",
        "            optimizer=optimizers.SGD(lr=1e-3, momentum=0.9),\n",
        "            metrics=['accuracy'])"
      ]
    },
    {
      "cell_type": "code",
      "execution_count": 10,
      "metadata": {},
      "outputs": [
        {
          "name": "stdout",
          "output_type": "stream",
          "text": [
            "Model: \"vgg16\"\n",
            "_________________________________________________________________\n",
            "Layer (type)                 Output Shape              Param #   \n",
            "=================================================================\n",
            "input_3 (InputLayer)         [(None, 64, 64, 3)]       0         \n",
            "_________________________________________________________________\n",
            "block1_conv1 (Conv2D)        (None, 64, 64, 64)        1792      \n",
            "_________________________________________________________________\n",
            "block1_conv2 (Conv2D)        (None, 64, 64, 64)        36928     \n",
            "_________________________________________________________________\n",
            "block1_pool (MaxPooling2D)   (None, 32, 32, 64)        0         \n",
            "_________________________________________________________________\n",
            "block2_conv1 (Conv2D)        (None, 32, 32, 128)       73856     \n",
            "_________________________________________________________________\n",
            "block2_conv2 (Conv2D)        (None, 32, 32, 128)       147584    \n",
            "_________________________________________________________________\n",
            "block2_pool (MaxPooling2D)   (None, 16, 16, 128)       0         \n",
            "_________________________________________________________________\n",
            "block3_conv1 (Conv2D)        (None, 16, 16, 256)       295168    \n",
            "_________________________________________________________________\n",
            "block3_conv2 (Conv2D)        (None, 16, 16, 256)       590080    \n",
            "_________________________________________________________________\n",
            "block3_conv3 (Conv2D)        (None, 16, 16, 256)       590080    \n",
            "_________________________________________________________________\n",
            "block3_pool (MaxPooling2D)   (None, 8, 8, 256)         0         \n",
            "_________________________________________________________________\n",
            "block4_conv1 (Conv2D)        (None, 8, 8, 512)         1180160   \n",
            "_________________________________________________________________\n",
            "block4_conv2 (Conv2D)        (None, 8, 8, 512)         2359808   \n",
            "_________________________________________________________________\n",
            "block4_conv3 (Conv2D)        (None, 8, 8, 512)         2359808   \n",
            "_________________________________________________________________\n",
            "block4_pool (MaxPooling2D)   (None, 4, 4, 512)         0         \n",
            "_________________________________________________________________\n",
            "block5_conv1 (Conv2D)        (None, 4, 4, 512)         2359808   \n",
            "_________________________________________________________________\n",
            "block5_conv2 (Conv2D)        (None, 4, 4, 512)         2359808   \n",
            "_________________________________________________________________\n",
            "block5_conv3 (Conv2D)        (None, 4, 4, 512)         2359808   \n",
            "_________________________________________________________________\n",
            "block5_pool (MaxPooling2D)   (None, 2, 2, 512)         0         \n",
            "=================================================================\n",
            "Total params: 14,714,688\n",
            "Trainable params: 14,714,688\n",
            "Non-trainable params: 0\n",
            "_________________________________________________________________\n"
          ]
        }
      ],
      "source": [
        "from keras.models import Model\n",
        "from keras import optimizers\n",
        "from keras.layers import Input\n",
        "from tensorflow.keras.applications.vgg16 import VGG16\n",
        "# VGG16のロード。FC層は不要なので include_top=False\n",
        "input_tensor = Input(shape=(64, 64, 3))\n",
        "\n",
        "vgg16 = VGG16(include_top=False, weights='imagenet', input_tensor=input_tensor)\n",
        "vgg16.summary()"
      ]
    },
    {
      "cell_type": "code",
      "execution_count": 11,
      "metadata": {
        "id": "ea9mYPeoHCkR",
        "outputId": "fa791b55-4a4e-4f94-84d0-700650799412"
      },
      "outputs": [
        {
          "name": "stderr",
          "output_type": "stream",
          "text": [
            "/Users/m.kazu/opt/anaconda3/envs/suumo_tensor_py39/lib/python3.9/site-packages/tensorflow/python/keras/engine/training.py:1844: UserWarning: `Model.fit_generator` is deprecated and will be removed in a future version. Please use `Model.fit`, which supports generators.\n",
            "  warnings.warn('`Model.fit_generator` is deprecated and '\n",
            "2022-06-10 13:36:39.862832: I tensorflow/compiler/mlir/mlir_graph_optimization_pass.cc:116] None of the MLIR optimization passes are enabled (registered 2)\n"
          ]
        },
        {
          "name": "stdout",
          "output_type": "stream",
          "text": [
            "Epoch 1/10\n",
            "3/3 [==============================] - 3s 1s/step - loss: 1.8124 - accuracy: 0.4445 - val_loss: 0.8920 - val_accuracy: 0.5385\n",
            "Epoch 2/10\n",
            "3/3 [==============================] - 2s 640ms/step - loss: 0.8289 - accuracy: 0.6474 - val_loss: 0.4950 - val_accuracy: 0.7692\n",
            "Epoch 3/10\n",
            "3/3 [==============================] - 2s 544ms/step - loss: 0.6808 - accuracy: 0.7650 - val_loss: 0.2908 - val_accuracy: 0.9231\n",
            "Epoch 4/10\n",
            "3/3 [==============================] - 2s 690ms/step - loss: 0.4774 - accuracy: 0.7480 - val_loss: 0.2270 - val_accuracy: 0.9744\n",
            "Epoch 5/10\n",
            "3/3 [==============================] - 2s 681ms/step - loss: 0.3459 - accuracy: 0.8336 - val_loss: 0.1997 - val_accuracy: 0.9487\n",
            "Epoch 6/10\n",
            "3/3 [==============================] - 2s 538ms/step - loss: 0.3219 - accuracy: 0.8243 - val_loss: 0.1280 - val_accuracy: 1.0000\n",
            "Epoch 7/10\n",
            "3/3 [==============================] - 2s 595ms/step - loss: 0.1488 - accuracy: 0.9635 - val_loss: 0.1091 - val_accuracy: 0.9487\n",
            "Epoch 8/10\n",
            "3/3 [==============================] - 2s 653ms/step - loss: 0.0899 - accuracy: 0.9615 - val_loss: 0.0619 - val_accuracy: 1.0000\n",
            "Epoch 9/10\n",
            "3/3 [==============================] - 2s 573ms/step - loss: 0.0977 - accuracy: 0.9794 - val_loss: 0.0425 - val_accuracy: 0.9744\n",
            "Epoch 10/10\n",
            "3/3 [==============================] - 2s 553ms/step - loss: 0.0892 - accuracy: 0.9509 - val_loss: 0.0297 - val_accuracy: 1.0000\n"
          ]
        }
      ],
      "source": [
        "result_dir = './results'\n",
        "# Fine-tuning\n",
        "history = vgg_model.fit_generator(\n",
        "    generator=train_generator,\n",
        "    # samples_per_epoch=nb_train_samples,\n",
        "    epochs=nb_epoch,\n",
        "    validation_data=validation_generator,\n",
        "    # nb_val_samples=nb_validation_samples\n",
        "    )\n",
        "\n",
        "# 重みを保存\n",
        "vgg_model.save_weights(os.path.join(result_dir, 'finetuning.h5'))"
      ]
    },
    {
      "cell_type": "code",
      "execution_count": 12,
      "metadata": {
        "id": "-kMaUtciHCkS",
        "outputId": "28f123e2-28b4-4f27-fb28-a233b0c0ae0c"
      },
      "outputs": [
        {
          "data": {
            "image/png": "[encoded data removed]",
            "text/plain": [
              "<Figure size 432x288 with 1 Axes>"
            ]
          },
          "metadata": {
            "needs_background": "light"
          },
          "output_type": "display_data"
        }
      ],
      "source": [
        "plt.plot(history.history['accuracy'])\n",
        "plt.plot(history.history['val_accuracy'])\n",
        "plt.title('model accuracy')\n",
        "plt.xlabel('epoch')\n",
        "plt.ylabel('accuracy')\n",
        "plt.legend(['accuracy', 'val_accuracy'], loc='lower right')\n",
        "plt.show()"
      ]
    },
    {
      "cell_type": "code",
      "execution_count": null,
      "metadata": {
        "id": "ZWApLXjtHCkT"
      },
      "outputs": [],
      "source": []
    }
  ],
  "metadata": {
    "colab": {
      "include_colab_link": true,
      "name": "fine_turning.ipynb",
      "provenance": []
    },
    "interpreter": {
      "hash": "b8a34c261aa465063bbe9b368df34ea1fa18e3deca546493346e91a2b2931e7d"
    },
    "kernelspec": {
      "display_name": "Python 3.9.12 ('suumo_tensor_py39')",
      "language": "python",
      "name": "python3"
    },
    "language_info": {
      "codemirror_mode": {
        "name": "ipython",
        "version": 3
      },
      "file_extension": ".py",
      "mimetype": "text/x-python",
      "name": "python",
      "nbconvert_exporter": "python",
      "pygments_lexer": "ipython3",
      "version": "3.9.12"
    },
    "orig_nbformat": 4
  },
  "nbformat": 4,
  "nbformat_minor": 0
}
