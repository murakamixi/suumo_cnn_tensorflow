{
  "cells": [
    {
      "cell_type": "markdown",
      "metadata": {
        "id": "view-in-github",
        "colab_type": "text"
      },
      "source": [
        "<a href=\"https://colab.research.google.com/github/murakamixi/suumo_cnn_tensorflow/blob/train_cmm/fine_turning.ipynb\" target=\"_parent\"><img src=\"https://colab.research.google.com/assets/colab-badge.svg\" alt=\"Open In Colab\"/></a>"
      ]
    },
    {
      "cell_type": "code",
      "execution_count": null,
      "metadata": {
        "id": "RWnko54qHCkL"
      },
      "outputs": [],
      "source": [
        "from keras.models import Sequential\n",
        "from keras.layers.core import Dense, Dropout, Flatten\n",
        "from keras.preprocessing.image import ImageDataGenerator\n",
        "import matplotlib.pyplot as plt"
      ]
    },
    {
      "cell_type": "code",
      "execution_count": null,
      "metadata": {
        "id": "H_aIdwVdHCkP"
      },
      "outputs": [],
      "source": [
        "classes = ['bathroom', 'genkan', 'kitchen', 'mitorizu', 'senmenjo', 'wc',]\n",
        "nb_classes = len(classes)\n",
        "\n",
        "img_width, img_height = 64, 64\n",
        "\n",
        "#traning and validation data dir\n",
        "train_data_dir = './data/train'\n",
        "validation_data_dir = './data/validation'\n",
        "\n",
        "nb_train_samples = 81\n",
        "nb_validation_samples = 81\n",
        "\n",
        "batch_size = 16\n",
        "nb_epoch = 10"
      ]
    },
    {
      "cell_type": "code",
      "execution_count": null,
      "metadata": {
        "id": "UiEmkQcAHCkP",
        "outputId": "d091c04f-7893-47ea-8bd8-59fc83f89af2"
      },
      "outputs": [
        {
          "name": "stdout",
          "output_type": "stream",
          "text": [
            "Found 81 images belonging to 6 classes.\n",
            "Found 81 images belonging to 6 classes.\n"
          ]
        }
      ],
      "source": [
        "# トレーンング用、バリデーション用データを生成するジェネレータ作成\n",
        "train_datagen = ImageDataGenerator(\n",
        "  rescale=1.0 / 255,\n",
        "  zoom_range=0.2,\n",
        "  horizontal_flip=True)\n",
        "\n",
        "validation_datagen = ImageDataGenerator(rescale=1.0 / 255)\n",
        "\n",
        "train_generator = train_datagen.flow_from_directory(\n",
        "  train_data_dir,\n",
        "  target_size=(img_width, img_height),\n",
        "  color_mode='rgb',\n",
        "  classes=classes,\n",
        "  class_mode='categorical',\n",
        "  batch_size=batch_size,\n",
        "  shuffle=True)\n",
        "\n",
        "validation_generator = validation_datagen.flow_from_directory(\n",
        "  validation_data_dir,\n",
        "  target_size=(img_width, img_height),\n",
        "  color_mode='rgb',\n",
        "  classes=classes,\n",
        "  class_mode='categorical',\n",
        "  batch_size=batch_size,\n",
        "  shuffle=True)"
      ]
    },
    {
      "cell_type": "code",
      "execution_count": null,
      "metadata": {
        "id": "azMntDWAHCkR"
      },
      "outputs": [],
      "source": [
        "from keras.models import Model\n",
        "from keras import optimizers\n",
        "from keras.layers import Input\n",
        "from tensorflow.keras.applications.vgg16 import VGG16\n",
        "import os\n",
        "\n",
        "\n",
        "# VGG16のロード。FC層は不要なので include_top=False\n",
        "input_tensor = Input(shape=(img_width, img_height, 3))\n",
        "vgg16 = VGG16(include_top=False, weights='imagenet', input_tensor=input_tensor)\n",
        "\n",
        "# FC層の作成\n",
        "top_model = Sequential()\n",
        "top_model.add(Flatten(input_shape=vgg16.output_shape[1:]))\n",
        "top_model.add(Dense(256, activation='relu'))\n",
        "top_model.add(Dropout(0.5))\n",
        "top_model.add(Dense(nb_classes, activation='softmax'))\n",
        "\n",
        "# VGG16とFC層を結合してモデルを作成\n",
        "vgg_model = Model(inputs=vgg16.input, outputs=top_model(vgg16.output))\n",
        "\n",
        "# 最後のconv層の直前までの層をfreeze\n",
        "for layer in vgg_model.layers[:15]:\n",
        "    layer.trainable = False\n",
        "\n",
        "# 多クラス分類を指定\n",
        "vgg_model.compile(loss='categorical_crossentropy',\n",
        "            optimizer=optimizers.SGD(lr=1e-3, momentum=0.9),\n",
        "            metrics=['accuracy'])"
      ]
    },
    {
      "cell_type": "code",
      "execution_count": null,
      "metadata": {
        "id": "ea9mYPeoHCkR",
        "outputId": "fa791b55-4a4e-4f94-84d0-700650799412"
      },
      "outputs": [
        {
          "name": "stderr",
          "output_type": "stream",
          "text": [
            "/Users/m.kazu/opt/anaconda3/envs/suumo_tensor_py39/lib/python3.9/site-packages/tensorflow/python/keras/engine/training.py:1844: UserWarning: `Model.fit_generator` is deprecated and will be removed in a future version. Please use `Model.fit`, which supports generators.\n",
            "  warnings.warn('`Model.fit_generator` is deprecated and '\n"
          ]
        },
        {
          "name": "stdout",
          "output_type": "stream",
          "text": [
            "Epoch 1/10\n",
            "6/6 [==============================] - 5s 661ms/step - loss: 2.0050 - accuracy: 0.1514 - val_loss: 1.4715 - val_accuracy: 0.5309\n",
            "Epoch 2/10\n",
            "6/6 [==============================] - 4s 771ms/step - loss: 1.7394 - accuracy: 0.3009 - val_loss: 1.2330 - val_accuracy: 0.6173\n",
            "Epoch 3/10\n",
            "6/6 [==============================] - 4s 652ms/step - loss: 1.4845 - accuracy: 0.4726 - val_loss: 1.3260 - val_accuracy: 0.4074\n",
            "Epoch 4/10\n",
            "6/6 [==============================] - 5s 974ms/step - loss: 1.3271 - accuracy: 0.3871 - val_loss: 1.1552 - val_accuracy: 0.5185\n",
            "Epoch 5/10\n",
            "6/6 [==============================] - 6s 1s/step - loss: 1.2701 - accuracy: 0.5370 - val_loss: 0.9812 - val_accuracy: 0.7284\n",
            "Epoch 6/10\n",
            "6/6 [==============================] - 6s 1s/step - loss: 1.1635 - accuracy: 0.5806 - val_loss: 0.9976 - val_accuracy: 0.5802\n",
            "Epoch 7/10\n",
            "6/6 [==============================] - 6s 982ms/step - loss: 1.2828 - accuracy: 0.5143 - val_loss: 1.0209 - val_accuracy: 0.5556\n",
            "Epoch 8/10\n",
            "6/6 [==============================] - 6s 1s/step - loss: 1.3842 - accuracy: 0.4587 - val_loss: 0.8884 - val_accuracy: 0.6420\n",
            "Epoch 9/10\n",
            "6/6 [==============================] - 6s 1s/step - loss: 0.8474 - accuracy: 0.6588 - val_loss: 0.9727 - val_accuracy: 0.6049\n",
            "Epoch 10/10\n",
            "6/6 [==============================] - 6s 973ms/step - loss: 1.1568 - accuracy: 0.5184 - val_loss: 0.8463 - val_accuracy: 0.7778\n"
          ]
        }
      ],
      "source": [
        "result_dir = './result'\n",
        "# Fine-tuning\n",
        "history = vgg_model.fit_generator(\n",
        "    generator=train_generator,\n",
        "    # samples_per_epoch=nb_train_samples,\n",
        "    epochs=nb_epoch,\n",
        "    validation_data=validation_generator,\n",
        "    # nb_val_samples=nb_validation_samples\n",
        "    )\n",
        "\n",
        "# 重みを保存\n",
        "vgg_model.save_weights(os.path.join(result_dir, 'finetuning.h5'))"
      ]
    },
    {
      "cell_type": "code",
      "execution_count": null,
      "metadata": {
        "id": "-kMaUtciHCkS",
        "outputId": "28f123e2-28b4-4f27-fb28-a233b0c0ae0c"
      },
      "outputs": [
        {
          "data": {
            "image/png": "[encoded data removed]",
            "text/plain": [
              "<Figure size 432x288 with 1 Axes>"
            ]
          },
          "metadata": {
            "needs_background": "light"
          },
          "output_type": "display_data"
        }
      ],
      "source": [
        "plt.plot(history.history['accuracy'])\n",
        "plt.plot(history.history['val_accuracy'])\n",
        "plt.title('model accuracy')\n",
        "plt.xlabel('epoch')\n",
        "plt.ylabel('accuracy')\n",
        "plt.legend(['accuracy', 'val_accuracy'], loc='lower right')\n",
        "plt.show()"
      ]
    },
    {
      "cell_type": "code",
      "execution_count": null,
      "metadata": {
        "id": "ZWApLXjtHCkT"
      },
      "outputs": [],
      "source": [
        ""
      ]
    }
  ],
  "metadata": {
    "interpreter": {
      "hash": "b8a34c261aa465063bbe9b368df34ea1fa18e3deca546493346e91a2b2931e7d"
    },
    "kernelspec": {
      "display_name": "Python 3.9.12 ('suumo_tensor_py39')",
      "language": "python",
      "name": "python3"
    },
    "language_info": {
      "codemirror_mode": {
        "name": "ipython",
        "version": 3
      },
      "file_extension": ".py",
      "mimetype": "text/x-python",
      "name": "python",
      "nbconvert_exporter": "python",
      "pygments_lexer": "ipython3",
      "version": "3.9.12"
    },
    "orig_nbformat": 4,
    "colab": {
      "name": "fine_turning.ipynb",
      "provenance": [],
      "include_colab_link": true
    }
  },
  "nbformat": 4,
  "nbformat_minor": 0
}