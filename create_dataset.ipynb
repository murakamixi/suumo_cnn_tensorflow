{
  "cells": [
    {
      "cell_type": "markdown",
      "metadata": {
        "colab_type": "text",
        "id": "view-in-github"
      },
      "source": [
        "<a href=\"https://colab.research.google.com/github/murakamixi/suumo_cnn_tensorflow/blob/train_cmm/create_dataset.ipynb\" target=\"_parent\"><img src=\"https://colab.research.google.com/assets/colab-badge.svg\" alt=\"Open In Colab\"/></a>"
      ]
    },
    {
      "cell_type": "code",
      "execution_count": 52,
      "metadata": {
        "id": "i50_jMs69ZDi"
      },
      "outputs": [],
      "source": [
        "from keras.utils import np_utils\n",
        "from keras.preprocessing.image import img_to_array, load_img\n",
        "import numpy as np\n",
        "from sklearn.model_selection import train_test_split\n",
        "\n",
        "import os\n",
        "import re"
      ]
    },
    {
      "cell_type": "code",
      "execution_count": 53,
      "metadata": {
        "id": "Dbv9wasz9ZDm"
      },
      "outputs": [],
      "source": [
        "# リサイズする画像のサイズ\n",
        "img_width, img_height = 64, 64"
      ]
    },
    {
      "cell_type": "code",
      "execution_count": 54,
      "metadata": {
        "id": "-YmmPm869ZDm"
      },
      "outputs": [],
      "source": [
        "def list_pictures(directory, ext='jpg|jpeg|bmp|png|ppm'):\n",
        "    return [os.path.join(root, f)\n",
        "            for root, _, files in os.walk(directory) for f in files\n",
        "            if re.match(r'([\\w]+\\.(?:' + ext + '))', f.lower())\n",
        "            ]\n"
      ]
    },
    {
      "cell_type": "code",
      "execution_count": 55,
      "metadata": {
        "id": "Dv-szZBB9ZDn"
      },
      "outputs": [],
      "source": [
        "# img_tagごとに分類するクラスの名前の辞書\n",
        "img_tag_names = {\n",
        "                0:'bathroom',\n",
        "                1:'genkan',\n",
        "                2:'kitchen',\n",
        "                3:'mitorizu',\n",
        "                4:'senmenjo',\n",
        "                5:'wc',\n",
        "                }"
      ]
    },
    {
      "cell_type": "code",
      "execution_count": 56,
      "metadata": {
        "id": "art1yedN9ZDn",
        "outputId": "4b9a5f8a-9d5e-4ce6-84a6-07e2c6a66894"
      },
      "outputs": [
        {
          "name": "stdout",
          "output_type": "stream",
          "text": [
            "0 bathroom\n",
            "1 genkan\n",
            "2 kitchen\n",
            "3 mitorizu\n",
            "4 senmenjo\n",
            "5 wc\n"
          ]
        }
      ],
      "source": [
        "X = []\n",
        "Y = []\n",
        "# 全てのfolder名とクラスの数字でフォルダ内に保存されている画像からデータセットを作成する\n",
        "for num, folder_name in img_tag_names.items():\n",
        "    print(num, folder_name)\n",
        "    # 単一のフォルダーから画像データをデータセット作成のためにone-hotをリストに追加\n",
        "    for picture in list_pictures('./imgs/{}/'.format(folder_name)):\n",
        "        img = img_to_array(load_img(picture, target_size=(img_width, img_height)))\n",
        "        X.append(img)\n",
        "        Y.append(num)"
      ]
    },
    {
      "cell_type": "code",
      "execution_count": 57,
      "metadata": {
        "id": "aLroBRcR9ZDo"
      },
      "outputs": [],
      "source": [
        "# arrayに変換\n",
        "X = np.asarray(X)\n",
        "Y = np.asarray(Y)\n",
        "\n",
        "# 画素値を0から1の範囲に変換\n",
        "X = X.astype('float32')\n",
        "X = X / 255.0\n",
        "\n",
        "# クラスの形式を変換\n",
        "Y = np_utils.to_categorical(Y, len(img_tag_names))"
      ]
    },
    {
      "cell_type": "code",
      "execution_count": 58,
      "metadata": {
        "id": "zVv72mQO9ZDp"
      },
      "outputs": [],
      "source": [
        "# 学習用データとテストデータ\n",
        "X_train, X_test, y_train, y_test = train_test_split(X, Y, test_size=0.33, random_state=111)"
      ]
    },
    {
      "cell_type": "code",
      "execution_count": 59,
      "metadata": {
        "id": "DFytxWVe9ZDq"
      },
      "outputs": [],
      "source": [
        "# npz形式へ書き出し\n",
        "np.savez(\"./data/dataset.npz\", X_train=X_train, X_test=X_test, y_train=y_train, y_test=y_test)"
      ]
    },
    {
      "cell_type": "code",
      "execution_count": null,
      "metadata": {},
      "outputs": [],
      "source": []
    }
  ],
  "metadata": {
    "colab": {
      "include_colab_link": true,
      "name": "create_dataset.ipynb",
      "provenance": []
    },
    "interpreter": {
      "hash": "b8a34c261aa465063bbe9b368df34ea1fa18e3deca546493346e91a2b2931e7d"
    },
    "kernelspec": {
      "display_name": "Python 3.9.12 ('suumo_tensor_py39')",
      "language": "python",
      "name": "python3"
    },
    "language_info": {
      "codemirror_mode": {
        "name": "ipython",
        "version": 3
      },
      "file_extension": ".py",
      "mimetype": "text/x-python",
      "name": "python",
      "nbconvert_exporter": "python",
      "pygments_lexer": "ipython3",
      "version": "3.9.12"
    },
    "orig_nbformat": 4
  },
  "nbformat": 4,
  "nbformat_minor": 0
}
